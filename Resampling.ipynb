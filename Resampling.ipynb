{
 "cells": [
  {
   "cell_type": "code",
   "execution_count": 2,
   "metadata": {
    "collapsed": true
   },
   "outputs": [],
   "source": [
    "# Setup libraries to be used for simulations and analysis. \n",
    "%matplotlib inline\n",
    "\n",
    "import numpy as np\n",
    "import pandas as pd\n",
    "import matplotlib.pyplot as plt\n",
    "import seaborn as sns\n",
    "sns.set(rc={\"figure.figsize\": (8, 4)})\n"
   ]
  },
  {
   "cell_type": "markdown",
   "metadata": {},
   "source": [
    "# Resampling\n",
    "This notebook comtains Python versions of the examples presented in text [Resampling: The New Statistics](http://www.resample.com/intro-text-online/).\n",
    "\n",
    "## Chapter 1\n",
    "\n",
    "A construction firm owns 20 earthmoving trucks. The chance that any one truck will break\n",
    "down on any given day is about 1 in 10. What is the chance that 4 will break down tomorrow?\n",
    "\n",
    "We simulate how many trucks on a given day will break down, and repeat this simulation many times. From this we can estimate the probability that 4 or more trucks will be broken down for the day. "
   ]
  },
  {
   "cell_type": "code",
   "execution_count": 5,
   "metadata": {
    "collapsed": false
   },
   "outputs": [
    {
     "name": "stdout",
     "output_type": "stream",
     "text": [
      "560 out of 4000 trials resulted in 4 or more trucks broken down.\n",
      "Chance of 4 or more trucks being broken down tomorrow is 0.14.\n"
     ]
    },
    {
     "data": {
      "image/png": "[encoded data removed]",
      "text/plain": [
       "<matplotlib.figure.Figure at 0x117da7908>"
      ]
     },
     "metadata": {},
     "output_type": "display_data"
    }
   ],
   "source": [
    "num_trials = 4000\n",
    "\n",
    "trials = [np.random.choice([1,2,3,4,5,6,7,8,9,10], 20) for _ in range(num_trials)]\n",
    "num_defective = np.array([len(t[t == 1]) for t in trials])\n",
    "# How many trials had 4 or more trucks break down?\n",
    "four_or_more = len(num_defective[num_defective >= 4])\n",
    "print(\"{} out of {} trials resulted in 4 or more trucks broken down.\".format(four_or_more, num_trials))\n",
    "ax = sns.distplot(num_defective, kde=False)\n",
    "print(\"Chance of 4 or more trucks being broken down tomorrow is {}.\".format(four_or_more/num_trials))"
   ]
  },
  {
   "cell_type": "code",
   "execution_count": null,
   "metadata": {
    "collapsed": true
   },
   "outputs": [],
   "source": []
  }
 ],
 "metadata": {
  "anaconda-cloud": {},
  "kernelspec": {
   "display_name": "Python [default]",
   "language": "python",
   "name": "python3"
  },
  "language_info": {
   "codemirror_mode": {
    "name": "ipython",
    "version": 3
   },
   "file_extension": ".py",
   "mimetype": "text/x-python",
   "name": "python",
   "nbconvert_exporter": "python",
   "pygments_lexer": "ipython3",
   "version": "3.5.2"
  }
 },
 "nbformat": 4,
 "nbformat_minor": 1
}
