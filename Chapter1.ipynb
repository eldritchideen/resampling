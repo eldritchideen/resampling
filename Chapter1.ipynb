{
 "cells": [
  {
   "cell_type": "markdown",
   "metadata": {},
   "source": [
    "A construction firm owns 20 earthmoving trucks. The chance that any one truck will break down on any given day is about 1 in 10, based on past experience. You want to know the probability that on a particular day, four or more trucks will be out of action."
   ]
  },
  {
   "cell_type": "code",
   "execution_count": 1,
   "metadata": {
    "collapsed": true
   },
   "outputs": [],
   "source": [
    "import numpy as np\n",
    "import matplotlib.pyplot as plt\n",
    "import seaborn as sns\n",
    "\n",
    "sns.set()\n",
    "%matplotlib inline"
   ]
  },
  {
   "cell_type": "code",
   "execution_count": 2,
   "metadata": {
    "collapsed": true
   },
   "outputs": [],
   "source": [
    "# Generate a sequence of trials simulating how many of the 20 trucks will breakdown on a given day. \n",
    "#\n",
    "# Number 1 represents a broken down truck.\n",
    "#\n",
    "NUM_TRIALS = 40000\n",
    "sim = np.random.choice(np.arange(1,11), size=(NUM_TRIALS,20), replace=True)"
   ]
  },
  {
   "cell_type": "code",
   "execution_count": 3,
   "metadata": {
    "collapsed": false
   },
   "outputs": [],
   "source": [
    "# How many breakdowns occured in each trial\n",
    "num_breakdowns = np.sum(sim == 1, axis=1)"
   ]
  },
  {
   "cell_type": "code",
   "execution_count": 4,
   "metadata": {
    "collapsed": false
   },
   "outputs": [
    {
     "name": "stdout",
     "output_type": "stream",
     "text": [
      "5337 trials resulted in 4 or more trucks breaking down.\n"
     ]
    }
   ],
   "source": [
    "# How many trials resulted in 4 or more trucks breaking down\n",
    "four_or_more = np.sum(num_breakdowns >= 4)\n",
    "print(f\"{four_or_more} trials resulted in 4 or more trucks breaking down.\")"
   ]
  },
  {
   "cell_type": "code",
   "execution_count": 5,
   "metadata": {
    "collapsed": false
   },
   "outputs": [
    {
     "name": "stdout",
     "output_type": "stream",
     "text": [
      "The chance of 4 or more trucks breaking down on a given day is 0.133425\n"
     ]
    }
   ],
   "source": [
    "print(f\"The chance of 4 or more trucks breaking down on a given day is {four_or_more / NUM_TRIALS}\")"
   ]
  },
  {
   "cell_type": "code",
   "execution_count": 6,
   "metadata": {
    "collapsed": false
   },
   "outputs": [
    {
     "data": {
      "image/png": "[encoded data removed]",
      "text/plain": [
       "<matplotlib.figure.Figure at 0x115e871d0>"
      ]
     },
     "metadata": {},
     "output_type": "display_data"
    }
   ],
   "source": [
    "# Histogram of break downs.\n",
    "plt.figure(figsize=(10, 8))\n",
    "sns.distplot(num_breakdowns, kde=False)\n",
    "plt.show()"
   ]
  },
  {
   "cell_type": "code",
   "execution_count": null,
   "metadata": {
    "collapsed": true
   },
   "outputs": [],
   "source": []
  }
 ],
 "metadata": {
  "kernelspec": {
   "display_name": "Python 3",
   "language": "python",
   "name": "python3"
  },
  "language_info": {
   "codemirror_mode": {
    "name": "ipython",
    "version": 3
   },
   "file_extension": ".py",
   "mimetype": "text/x-python",
   "name": "python",
   "nbconvert_exporter": "python",
   "pygments_lexer": "ipython3",
   "version": "3.6.0"
  }
 },
 "nbformat": 4,
 "nbformat_minor": 2
}
