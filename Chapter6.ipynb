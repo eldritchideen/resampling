{
 "cells": [
  {
   "cell_type": "markdown",
   "metadata": {},
   "source": [
    "# The Treasure Fleet\n",
    "A Spanish treasure fleet of three ships was sunk at sea off Mexico. \n",
    "\n",
    "One ship had a trunk of gold forward and another aft, another ship had a trunk of gold forward and a trunk of silver aft, while a third ship had a trunk of silver forward and another trunk of silver aft. \n",
    "\n",
    "Divers just found one of the ships and a trunk of silver in it. \n",
    "\n",
    "They are now taking bets about whether the other trunk found on the same ship will contain silver or gold. What are fair odds?"
   ]
  },
  {
   "cell_type": "code",
   "execution_count": 1,
   "metadata": {
    "collapsed": true
   },
   "outputs": [],
   "source": [
    "import numpy as np"
   ]
  },
  {
   "cell_type": "code",
   "execution_count": 21,
   "metadata": {
    "collapsed": false
   },
   "outputs": [
    {
     "data": {
      "text/plain": [
       "<function __main__.gold_silver_ship>"
      ]
     },
     "execution_count": 21,
     "metadata": {},
     "output_type": "execute_result"
    }
   ],
   "source": [
    "def gold_gold_ship():\n",
    "    return np.random.choice(['gold', 'gold'])\n",
    "    \n",
    "def gold_silver_ship():\n",
    "    return np.random.choice(['gold', 'silver'])\n",
    "\n",
    "def silver_silver_ship():\n",
    "    return np.random.choice(['silver', 'silver'])\n",
    "\n",
    "def select_ship():\n",
    "    return np.random.choice([gold_gold_ship, gold_silver_ship, silver_silver_ship])\n"
   ]
  },
  {
   "cell_type": "code",
   "execution_count": 35,
   "metadata": {
    "collapsed": false
   },
   "outputs": [],
   "source": [
    "total = []\n",
    "for _ in range(100000):\n",
    "    ship = select_ship()\n",
    "    if ship == gold_gold_ship:\n",
    "        total.append(1)\n",
    "    if ship == gold_silver_ship:\n",
    "        coin = ship()\n",
    "        if coin == 'gold':\n",
    "            total.append(0)\n",
    "\n",
    "total = np.array(total) \n",
    "    "
   ]
  },
  {
   "cell_type": "code",
   "execution_count": 36,
   "metadata": {
    "collapsed": false
   },
   "outputs": [
    {
     "name": "stdout",
     "output_type": "stream",
     "text": [
      "We got an initial gold coin 50030 times\n"
     ]
    }
   ],
   "source": [
    "initial_gold = len(total)\n",
    "print('We got an initial gold coin {} times'.format(initial_gold))"
   ]
  },
  {
   "cell_type": "code",
   "execution_count": 37,
   "metadata": {
    "collapsed": false
   },
   "outputs": [
    {
     "name": "stdout",
     "output_type": "stream",
     "text": [
      "The second coin was gold 33336 times\n"
     ]
    }
   ],
   "source": [
    "second_gold = np.sum(total == 1)\n",
    "print('The second coin was gold {} times'.format(second_gold))"
   ]
  },
  {
   "cell_type": "code",
   "execution_count": 38,
   "metadata": {
    "collapsed": false
   },
   "outputs": [
    {
     "name": "stdout",
     "output_type": "stream",
     "text": [
      "The odds are 0.6663202078752748\n"
     ]
    }
   ],
   "source": [
    "print('The odds are {}'.format(second_gold / initial_gold))"
   ]
  },
  {
   "cell_type": "markdown",
   "metadata": {},
   "source": [
    "Gives us a result close to the actual odds of 2/3"
   ]
  },
  {
   "cell_type": "markdown",
   "metadata": {},
   "source": [
    "# A Poker Problem\n",
    "What is the chance that the first five cards chosen from a deck of 52 cards will contain two (and only two) cards of the same denomination (two 3’s for example)?"
   ]
  },
  {
   "cell_type": "code",
   "execution_count": 57,
   "metadata": {
    "collapsed": false
   },
   "outputs": [],
   "source": [
    "deck = [1,2,3,4,5,6,7,8,9,10,11,12,13] * 4"
   ]
  },
  {
   "cell_type": "code",
   "execution_count": 58,
   "metadata": {
    "collapsed": false
   },
   "outputs": [
    {
     "name": "stdout",
     "output_type": "stream",
     "text": [
      "The chance of getting just one pair in the first 5 cards dealt is 0.42208.\n"
     ]
    }
   ],
   "source": [
    "NUM_TRIALS = 100000\n",
    "num_pairs = []\n",
    "\n",
    "for _ in range(NUM_TRIALS):\n",
    "    (_, pairs) = np.unique(np.random.choice(deck, 5, replace=False), return_counts=True)\n",
    "    num_pairs.append(np.sum(pairs == 2))\n",
    "\n",
    "num_one_pair = np.sum(np.array(num_pairs) == 1)\n",
    "print('The chance of getting just one pair in the first 5 cards dealt is {}.'.format(num_one_pair / NUM_TRIALS))"
   ]
  }
 ],
 "metadata": {
  "kernelspec": {
   "display_name": "Python 3",
   "language": "python",
   "name": "python3"
  },
  "language_info": {
   "codemirror_mode": {
    "name": "ipython",
    "version": 3
   },
   "file_extension": ".py",
   "mimetype": "text/x-python",
   "name": "python",
   "nbconvert_exporter": "python",
   "pygments_lexer": "ipython3",
   "version": "3.6.0"
  }
 },
 "nbformat": 4,
 "nbformat_minor": 2
}
